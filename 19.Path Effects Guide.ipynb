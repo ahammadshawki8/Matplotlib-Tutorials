{
 "cells": [
  {
   "cell_type": "code",
   "execution_count": 2,
   "metadata": {},
   "outputs": [
    {
     "data": {
      "text/plain": [
       "<Figure size 360x108 with 0 Axes>"
      ]
     },
     "metadata": {},
     "output_type": "display_data"
    }
   ],
   "source": [
    "# module 19\n",
    "# path effects not very necessary but they can be useful.\n",
    "# So it is good to know a little bit of it.\n",
    "\n",
    "%matplotlib inline\n",
    "import matplotlib.pyplot as plt\n",
    "import matplotlib.patheffects as path_effects\n",
    "\n",
    "fig = plt.figure(figsize=(5, 1.5))\n",
    "text = fig.text(0.5, 0.5, 'Hello path effects world!\\nThis is the normal '\n",
    "                          'path effect.\\nPretty dull, huh?',\n",
    "                ha='center', va='center', size=20)\n",
    "text.set_path_effects([path_effects.Normal()])\n",
    "plt.show()"
   ]
  },
  {
   "cell_type": "code",
   "execution_count": 4,
   "metadata": {},
   "outputs": [
    {
     "data": {
      "image/png": "[encoded data removed]",
      "text/plain": [
       "<Figure size 432x288 with 1 Axes>"
      ]
     },
     "metadata": {
      "needs_background": "light"
     },
     "output_type": "display_data"
    }
   ],
   "source": [
    "import matplotlib.patheffects as path_effects\n",
    "\n",
    "text = plt.text(0.5, 0.5, 'SimpleLineShadow()',\n",
    "                path_effects=[path_effects.withSimplePatchShadow()])\n",
    "\n",
    "plt.plot([0, 3, 2, 5], linewidth=5, color='blue',\n",
    "         path_effects=[path_effects.SimpleLineShadow(),\n",
    "                       path_effects.Normal()])\n",
    "plt.show()"
   ]
  },
  {
   "cell_type": "code",
   "execution_count": 13,
   "metadata": {},
   "outputs": [
    {
     "data": {
      "text/plain": [
       "<Figure size 504x72 with 0 Axes>"
      ]
     },
     "metadata": {},
     "output_type": "display_data"
    }
   ],
   "source": [
    "fig = plt.figure(figsize=(7, 1))\n",
    "text = fig.text(0.5, 0.5, 'This text stands out because of\\n'\n",
    "                          'its black border.', color='white',\n",
    "                          ha='center', va='center', size=30)\n",
    "text.set_path_effects([path_effects.Stroke(linewidth=3, foreground='black'),\n",
    "                       path_effects.Normal()])\n",
    "plt.show()"
   ]
  },
  {
   "cell_type": "code",
   "execution_count": 14,
   "metadata": {},
   "outputs": [
    {
     "data": {
      "text/plain": [
       "<Figure size 576x72 with 0 Axes>"
      ]
     },
     "metadata": {},
     "output_type": "display_data"
    }
   ],
   "source": [
    "fig = plt.figure(figsize=(8, 1))\n",
    "t = fig.text(0.02, 0.5, 'Hatch shadow', fontsize=75, weight=1000, va='center')\n",
    "t.set_path_effects([path_effects.PathPatchEffect(offset=(4, -4), hatch='xxxx',\n",
    "                                                 facecolor='gray'),\n",
    "                    path_effects.PathPatchEffect(edgecolor='white', linewidth=1.1,\n",
    "                                                 facecolor='black')])\n",
    "plt.show()"
   ]
  },
  {
   "cell_type": "code",
   "execution_count": null,
   "metadata": {},
   "outputs": [],
   "source": []
  }
 ],
 "metadata": {
  "kernelspec": {
   "display_name": "Python 3.8.2 64-bit",
   "language": "python",
   "name": "python38264bit9aed414d9b2c4aafacf2c3038ae0f19f"
  },
  "language_info": {
   "codemirror_mode": {
    "name": "ipython",
    "version": 3
   },
   "file_extension": ".py",
   "mimetype": "text/x-python",
   "name": "python",
   "nbconvert_exporter": "python",
   "pygments_lexer": "ipython3",
   "version": "3.8.2"
  }
 },
 "nbformat": 4,
 "nbformat_minor": 4
}
