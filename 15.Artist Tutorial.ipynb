{
 "cells": [
  {
   "cell_type": "code",
   "execution_count": 4,
   "metadata": {},
   "outputs": [
    {
     "data": {
      "image/png": "[encoded data removed]",
      "text/plain": [
       "<Figure size 432x288 with 1 Axes>"
      ]
     },
     "metadata": {
      "needs_background": "light"
     },
     "output_type": "display_data"
    }
   ],
   "source": [
    "# module 15\n",
    "\n",
    "%matplotlib inline\n",
    "import matplotlib.pyplot as plt\n",
    "fig = plt.figure()\n",
    "ax = fig.add_subplot(2, 1, 1) # two rows, one column, first plot"
   ]
  },
  {
   "cell_type": "code",
   "execution_count": 11,
   "metadata": {},
   "outputs": [
    {
     "data": {
      "image/png": "[encoded data removed]",
      "text/plain": [
       "<Figure size 432x288 with 1 Axes>"
      ]
     },
     "metadata": {
      "needs_background": "light"
     },
     "output_type": "display_data"
    }
   ],
   "source": [
    "fig2 = plt.figure()\n",
    "ax2 = fig2.add_axes([0.15, 0.1, 0.7, 0.4])"
   ]
  },
  {
   "cell_type": "code",
   "execution_count": 6,
   "metadata": {},
   "outputs": [
    {
     "data": {
      "image/png": "[encoded data removed]",
      "text/plain": [
       "<Figure size 432x288 with 1 Axes>"
      ]
     },
     "metadata": {
      "needs_background": "light"
     },
     "output_type": "display_data"
    }
   ],
   "source": [
    "import numpy as np\n",
    "fig = plt.figure()\n",
    "ax = fig.add_subplot(2, 1, 1)\n",
    "\n",
    "l=np.arange(0,0.1,0.001)\n",
    "s=np.sin(2*np.pi*l)\n",
    "line, = ax.plot(l,s,color=\"green\",linewidth=2)\n",
    "\n",
    "# removing our plotted line \n",
    "ax.lines.remove(line)"
   ]
  },
  {
   "cell_type": "code",
   "execution_count": 10,
   "metadata": {},
   "outputs": [
    {
     "data": {
      "image/png": "[encoded data removed]",
      "text/plain": [
       "<Figure size 432x288 with 1 Axes>"
      ]
     },
     "metadata": {
      "needs_background": "light"
     },
     "output_type": "display_data"
    },
    {
     "data": {
      "image/png": "[encoded data removed]",
      "text/plain": [
       "<Figure size 432x288 with 1 Axes>"
      ]
     },
     "metadata": {
      "needs_background": "light"
     },
     "output_type": "display_data"
    },
    {
     "name": "stdout",
     "output_type": "stream",
     "text": [
      "[16. 10. 26. 26. 20. 23. 18. 19. 13. 15. 18. 23. 20. 18. 19. 19. 15. 16.\n",
      " 13. 18. 22. 22. 19. 23. 19. 24. 24. 14. 23. 22. 15. 18. 16. 19. 26. 26.\n",
      " 31. 25. 15. 16. 22. 15. 24. 24. 21. 21. 26. 18. 27. 18.]\n",
      "[0.00112704 0.02109134 0.04105565 0.06101996 0.08098427 0.10094857\n",
      " 0.12091288 0.14087719 0.16084149 0.1808058  0.20077011 0.22073441\n",
      " 0.24069872 0.26066303 0.28062733 0.30059164 0.32055595 0.34052025\n",
      " 0.36048456 0.38044887 0.40041317 0.42037748 0.44034179 0.4603061\n",
      " 0.4802704  0.50023471 0.52019902 0.54016332 0.56012763 0.58009194\n",
      " 0.60005624 0.62002055 0.63998486 0.65994916 0.67991347 0.69987778\n",
      " 0.71984208 0.73980639 0.7597707  0.779735   0.79969931 0.81966362\n",
      " 0.83962793 0.85959223 0.87955654 0.89952085 0.91948515 0.93944946\n",
      " 0.95941377 0.97937807 0.99934238]\n",
      "<a list of 50 Patch objects>\n"
     ]
    }
   ],
   "source": [
    "fig1=plt.figure()\n",
    "ax1=fig1.add_subplot(2,1,1)\n",
    "\n",
    "t=np.arange(0,7,0.0001)\n",
    "s=np.sin(np.pi*t)\n",
    "plot1=ax1.plot(t,s,color=\"green\",linewidth=2)\n",
    "ax1.set_title(\"A Sine Graph\")\n",
    "\n",
    "# Fixing random state for reproducibility\n",
    "np.random.seed(19680801)\n",
    "\n",
    "fig2=plt.figure()\n",
    "ax2=fig2.add_axes([0.15,0.1,0.7,0.3])\n",
    "r=np.random.rand(1000)\n",
    "n, bins, patches=ax2.hist(r,bins=50,facecolor=\"yellow\",edgecolor=\"yellow\")\n",
    "ax2.set_xlabel(\"Random Fluctuation\",size=13)\n",
    "\n",
    "plt.show()\n",
    "\n",
    "print(n)\n",
    "print(bins)\n",
    "print(patches)"
   ]
  },
  {
   "cell_type": "code",
   "execution_count": 11,
   "metadata": {},
   "outputs": [],
   "source": [
    "k=ax1.get_alpha()\n",
    "ax2.set_alpha(0.5)"
   ]
  },
  {
   "cell_type": "code",
   "execution_count": 60,
   "metadata": {},
   "outputs": [
    {
     "name": "stdout",
     "output_type": "stream",
     "text": [
      "    agg_filter = None\n",
      "    alpha = None\n",
      "    animated = False\n",
      "    antialiased or aa = False\n",
      "    bbox = Bbox(x0=0.0, y0=0.0, x1=1.0, y1=1.0)\n",
      "    capstyle = butt\n",
      "    children = []\n",
      "    clip_box = None\n",
      "    clip_on = True\n",
      "    clip_path = None\n",
      "    contains = None\n",
      "    data_transform = BboxTransformTo(     TransformedBbox(         Bbox...\n",
      "    edgecolor or ec = (1.0, 1.0, 1.0, 0.0)\n",
      "    extents = Bbox(x0=0.0, y0=0.0, x1=432.0, y1=288.0)\n",
      "    facecolor or fc = (1.0, 1.0, 1.0, 0.0)\n",
      "    figure = Figure(432x288)\n",
      "    fill = True\n",
      "    gid = None\n",
      "    hatch = None\n",
      "    height = 1\n",
      "    in_layout = False\n",
      "    joinstyle = miter\n",
      "    label = \n",
      "    linestyle or ls = solid\n",
      "    linewidth or lw = 0.0\n",
      "    patch_transform = CompositeGenericTransform(     BboxTransformTo(   ...\n",
      "    path = Path(array([[0., 0.],        [1., 0.],        [1.,...\n",
      "    path_effects = []\n",
      "    picker = None\n",
      "    rasterized = None\n",
      "    sketch_params = None\n",
      "    snap = None\n",
      "    transform = CompositeGenericTransform(     CompositeGenericTra...\n",
      "    transformed_clip_path_and_affine = (None, None)\n",
      "    url = None\n",
      "    verts = [[  0.   0.]  [432.   0.]  [432. 288.]  [  0. 288....\n",
      "    visible = True\n",
      "    width = 1\n",
      "    window_extent = Bbox(x0=0.0, y0=0.0, x1=432.0, y1=288.0)\n",
      "    x = 0\n",
      "    xy = (0, 0)\n",
      "    y = 0\n",
      "    zorder = 1\n"
     ]
    }
   ],
   "source": [
    "import matplotlib\n",
    "matplotlib.artist.getp(fig1.patch)"
   ]
  },
  {
   "cell_type": "code",
   "execution_count": 61,
   "metadata": {},
   "outputs": [],
   "source": [
    "# I guess the artist tutorials are booring.\n",
    "# but we can alway find them in the matplotlib official tutorials."
   ]
  },
  {
   "cell_type": "code",
   "execution_count": null,
   "metadata": {},
   "outputs": [],
   "source": []
  }
 ],
 "metadata": {
  "kernelspec": {
   "display_name": "Python 3.8.2 64-bit",
   "language": "python",
   "name": "python38264bit9aed414d9b2c4aafacf2c3038ae0f19f"
  },
  "language_info": {
   "codemirror_mode": {
    "name": "ipython",
    "version": 3
   },
   "file_extension": ".py",
   "mimetype": "text/x-python",
   "name": "python",
   "nbconvert_exporter": "python",
   "pygments_lexer": "ipython3",
   "version": "3.8.2"
  }
 },
 "nbformat": 4,
 "nbformat_minor": 4
}
